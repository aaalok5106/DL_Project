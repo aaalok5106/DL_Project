{
  "nbformat": 4,
  "nbformat_minor": 0,
  "metadata": {
    "colab": {
      "name": "final_2.ipynb",
      "version": "0.3.2",
      "provenance": [],
      "include_colab_link": true
    },
    "kernelspec": {
      "name": "python3",
      "display_name": "Python 3"
    },
    "accelerator": "TPU"
  },
  "cells": [
    {
      "cell_type": "markdown",
      "metadata": {
        "id": "view-in-github",
        "colab_type": "text"
      },
      "source": [
        "<a href=\"https://colab.research.google.com/github/aaalok5106/DL_Project/blob/master/final_2.ipynb\" target=\"_parent\"><img src=\"https://colab.research.google.com/assets/colab-badge.svg\" alt=\"Open In Colab\"/></a>"
      ]
    },
    {
      "metadata": {
        "id": "TvGEhA1YuoBx",
        "colab_type": "code",
        "colab": {
          "base_uri": "https://localhost:8080/",
          "height": 122
        },
        "outputId": "e32af19b-1988-4e9a-8d4d-c7c1ad002899"
      },
      "cell_type": "code",
      "source": [
        "# Load the Drive helper and mount\n",
        "from google.colab import drive\n",
        "# This will prompt for authorization.\n",
        "drive.mount('/content/drive')"
      ],
      "execution_count": 1,
      "outputs": [
        {
          "output_type": "stream",
          "text": [
            "Go to this URL in a browser: https://accounts.google.com/o/oauth2/auth?client_id=947318989803-6bn6qk8qdgf4n4g3pfee6491hc0brc4i.apps.googleusercontent.com&redirect_uri=urn%3Aietf%3Awg%3Aoauth%3A2.0%3Aoob&scope=email%20https%3A%2F%2Fwww.googleapis.com%2Fauth%2Fdocs.test%20https%3A%2F%2Fwww.googleapis.com%2Fauth%2Fdrive%20https%3A%2F%2Fwww.googleapis.com%2Fauth%2Fdrive.photos.readonly%20https%3A%2F%2Fwww.googleapis.com%2Fauth%2Fpeopleapi.readonly&response_type=code\n",
            "\n",
            "Enter your authorization code:\n",
            "··········\n",
            "Mounted at /content/drive\n"
          ],
          "name": "stdout"
        }
      ]
    },
    {
      "metadata": {
        "id": "BT4ucl_Quzgj",
        "colab_type": "code",
        "colab": {
          "base_uri": "https://localhost:8080/",
          "height": 68
        },
        "outputId": "a62a5944-b424-4f2f-c823-fffe6dc4add0"
      },
      "cell_type": "code",
      "source": [
        "# After executing the cell above, Drive\n",
        "# files will be present in \"/content/drive/My Drive\".\n",
        "!ls \"/content/drive/My Drive/DL_Project\""
      ],
      "execution_count": 1,
      "outputs": [
        {
          "output_type": "stream",
          "text": [
            "dataset        MURA-v1.1.zip\t\t Untitled0.ipynb\n",
            "final_2.ipynb  temp\t\t\t valid_filepath_label.txt\n",
            "model1.h5      train_filepath_label.txt\n"
          ],
          "name": "stdout"
        }
      ]
    },
    {
      "metadata": {
        "id": "A4xY0sAWuzjK",
        "colab_type": "code",
        "colab": {
          "base_uri": "https://localhost:8080/",
          "height": 34
        },
        "outputId": "d0962576-092c-4223-8480-70c7048b01c8"
      },
      "cell_type": "code",
      "source": [
        "!ls"
      ],
      "execution_count": 2,
      "outputs": [
        {
          "output_type": "stream",
          "text": [
            "drive  model1.h5  MURA-v1.1  sample_data\n"
          ],
          "name": "stdout"
        }
      ]
    },
    {
      "metadata": {
        "id": "7_3GjKmRuzl4",
        "colab_type": "code",
        "colab": {
          "base_uri": "https://localhost:8080/",
          "height": 34
        },
        "outputId": "698ea7b8-e0b9-4d12-8ece-d314f04bdbac"
      },
      "cell_type": "code",
      "source": [
        "!du -sh \"/content/MURA-v1.1\""
      ],
      "execution_count": 3,
      "outputs": [
        {
          "output_type": "stream",
          "text": [
            "3.4G\t/content/MURA-v1.1\n"
          ],
          "name": "stdout"
        }
      ]
    },
    {
      "metadata": {
        "id": "MX14MPhMuzoh",
        "colab_type": "code",
        "colab": {}
      },
      "cell_type": "code",
      "source": [
        "import IPython.display as display\n",
        "from __future__ import absolute_import, division, print_function\n",
        "\n",
        "import tensorflow as tf\n",
        "\n",
        "import pandas as pd\n",
        "from os import listdir\n",
        "from os.path import isfile, join"
      ],
      "execution_count": 0,
      "outputs": []
    },
    {
      "metadata": {
        "id": "bTqGk1cjuzrQ",
        "colab_type": "code",
        "colab": {}
      },
      "cell_type": "code",
      "source": [
        "def load_data(filename):\n",
        "  data = pd.read_csv('./MURA-v1.1/'+filename, sep = \",\", header = None)\n",
        "  data.columns = [\"datapath\",\"label\"]\n",
        "  return data"
      ],
      "execution_count": 0,
      "outputs": []
    },
    {
      "metadata": {
        "id": "EOXxkPrduztz",
        "colab_type": "code",
        "colab": {}
      },
      "cell_type": "code",
      "source": [
        "data = load_data('train_labeled_studies.csv')\n",
        "path = []\n",
        "label = []\n",
        "for i, j in data.iterrows():\n",
        "  mypath = './' + j['datapath']\n",
        "  onlyfiles = [f for f in listdir(mypath) if isfile(join(mypath, f))] \n",
        "  for k in onlyfiles:\n",
        "    #print( j['datapath']+k, j['label'] )\n",
        "    path.append(j['datapath']+k)\n",
        "    label.append(j['label'])\n",
        "\n",
        "label_value = ['not_fractured', 'fractured']"
      ],
      "execution_count": 0,
      "outputs": []
    },
    {
      "metadata": {
        "id": "DqCp-hbLuzwa",
        "colab_type": "code",
        "colab": {
          "base_uri": "https://localhost:8080/",
          "height": 258
        },
        "outputId": "0c0ff270-2976-4dd8-e4d1-bff2440e6684"
      },
      "cell_type": "code",
      "source": [
        "import os\n",
        "import pprint\n",
        "import tensorflow as tf\n",
        "\n",
        "if 'COLAB_TPU_ADDR' not in os.environ:\n",
        "  print('ERROR: Not connected to a TPU runtime; please see the first cell in this notebook for instructions!')\n",
        "else:\n",
        "  tpu_address = 'grpc://' + os.environ['COLAB_TPU_ADDR']\n",
        "  print ('TPU address is', tpu_address)\n",
        "\n",
        "  with tf.Session(tpu_address) as session:\n",
        "    devices = session.list_devices()\n",
        "    \n",
        "  print('TPU devices:')\n",
        "  pprint.pprint(devices)"
      ],
      "execution_count": 7,
      "outputs": [
        {
          "output_type": "stream",
          "text": [
            "TPU address is grpc://10.12.210.2:8470\n",
            "TPU devices:\n",
            "[_DeviceAttributes(/job:tpu_worker/replica:0/task:0/device:CPU:0, CPU, -1, 2507236333395426125),\n",
            " _DeviceAttributes(/job:tpu_worker/replica:0/task:0/device:XLA_CPU:0, XLA_CPU, 17179869184, 15464962281317413747),\n",
            " _DeviceAttributes(/job:tpu_worker/replica:0/task:0/device:TPU:0, TPU, 17179869184, 11248967432684262263),\n",
            " _DeviceAttributes(/job:tpu_worker/replica:0/task:0/device:TPU:1, TPU, 17179869184, 16475557513806160393),\n",
            " _DeviceAttributes(/job:tpu_worker/replica:0/task:0/device:TPU:2, TPU, 17179869184, 17428645771128786527),\n",
            " _DeviceAttributes(/job:tpu_worker/replica:0/task:0/device:TPU:3, TPU, 17179869184, 12956162779786239193),\n",
            " _DeviceAttributes(/job:tpu_worker/replica:0/task:0/device:TPU:4, TPU, 17179869184, 16242062214240643995),\n",
            " _DeviceAttributes(/job:tpu_worker/replica:0/task:0/device:TPU:5, TPU, 17179869184, 11145879551395548292),\n",
            " _DeviceAttributes(/job:tpu_worker/replica:0/task:0/device:TPU:6, TPU, 17179869184, 12674971990817321927),\n",
            " _DeviceAttributes(/job:tpu_worker/replica:0/task:0/device:TPU:7, TPU, 17179869184, 10339662501502954730),\n",
            " _DeviceAttributes(/job:tpu_worker/replica:0/task:0/device:TPU_SYSTEM:0, TPU_SYSTEM, 17179869184, 11051639373071650451)]\n"
          ],
          "name": "stdout"
        }
      ]
    },
    {
      "metadata": {
        "id": "8VIVXNL8uzzC",
        "colab_type": "code",
        "colab": {}
      },
      "cell_type": "code",
      "source": [
        "import os \n",
        "from numpy import *"
      ],
      "execution_count": 0,
      "outputs": []
    },
    {
      "metadata": {
        "id": "ybyfnrS9uz1x",
        "colab_type": "code",
        "colab": {}
      },
      "cell_type": "code",
      "source": [
        "# pre processing of images\n",
        "\n",
        "from PIL import Image\n",
        "\n",
        "# size of image\n",
        "row, col = 64, 64\n",
        "channel = 1\n",
        "bdir = '/content/'"
      ],
      "execution_count": 0,
      "outputs": []
    },
    {
      "metadata": {
        "id": "4X-P2Zvkuz4g",
        "colab_type": "code",
        "colab": {
          "base_uri": "https://localhost:8080/",
          "height": 34
        },
        "outputId": "049583f3-b21a-488b-97f6-d27b4759bcd0"
      },
      "cell_type": "code",
      "source": [
        "# train skip i = 25001, 25003, 25005, 25006\n",
        "exclude = [25001, 25003, 25005, 25006]\n",
        "\n",
        "gray_list = []\n",
        "\n",
        "\n",
        "for i in range(len(path)):\n",
        "  if not i in exclude:\n",
        "    im = Image.open(bdir + path[i])\n",
        "\n",
        "    img = im.resize((row, col))\n",
        "    gray=img.convert('L')\n",
        "    gray_list.append(gray)\n",
        "\n",
        "path[25001]"
      ],
      "execution_count": 12,
      "outputs": [
        {
          "output_type": "execute_result",
          "data": {
            "text/plain": [
              "'MURA-v1.1/train/XR_WRIST/patient07840/study1_negative/._image1.png'"
            ]
          },
          "metadata": {
            "tags": []
          },
          "execution_count": 12
        }
      ]
    },
    {
      "metadata": {
        "id": "tlnx4P3Huz7c",
        "colab_type": "code",
        "colab": {
          "base_uri": "https://localhost:8080/",
          "height": 34
        },
        "outputId": "afe885ba-f5f9-4495-eec0-014403528038"
      },
      "cell_type": "code",
      "source": [
        "len(gray_list)"
      ],
      "execution_count": 13,
      "outputs": [
        {
          "output_type": "execute_result",
          "data": {
            "text/plain": [
              "36808"
            ]
          },
          "metadata": {
            "tags": []
          },
          "execution_count": 13
        }
      ]
    },
    {
      "metadata": {
        "id": "cI5WUpGguz-O",
        "colab_type": "code",
        "colab": {
          "base_uri": "https://localhost:8080/",
          "height": 34
        },
        "outputId": "bfbe57d1-a4aa-4034-8d37-aacce3922a79"
      },
      "cell_type": "code",
      "source": [
        "len(path)"
      ],
      "execution_count": 14,
      "outputs": [
        {
          "output_type": "execute_result",
          "data": {
            "text/plain": [
              "36812"
            ]
          },
          "metadata": {
            "tags": []
          },
          "execution_count": 14
        }
      ]
    },
    {
      "metadata": {
        "id": "nOy_s46ou0BF",
        "colab_type": "code",
        "colab": {}
      },
      "cell_type": "code",
      "source": [
        "# img_mat = array([])\n",
        "# tt=array(gray).flatten()\n",
        "# img_mat.append(tt)\n",
        "# print(img_mat)\n",
        "\n",
        "\n",
        "#flatten all the images into one matrix\n",
        "img_mat=array([array(gray_im).flatten() for gray_im in gray_list],'f')"
      ],
      "execution_count": 0,
      "outputs": []
    },
    {
      "metadata": {
        "id": "krIRCziCu0Ds",
        "colab_type": "code",
        "colab": {
          "base_uri": "https://localhost:8080/",
          "height": 136
        },
        "outputId": "f48764c3-b6d8-400b-db23-3b6669debf8e"
      },
      "cell_type": "code",
      "source": [
        "print(img_mat)"
      ],
      "execution_count": 16,
      "outputs": [
        {
          "output_type": "stream",
          "text": [
            "[[ 58.  39.  35. ...  91.  91.  92.]\n",
            " [  0.   0. 115. ... 168. 165. 166.]\n",
            " [  6.   7.   8. ...   5.   5.   5.]\n",
            " ...\n",
            " [ 27.  29.  26. ...  26.  26.  26.]\n",
            " [ 21.  23.  20. ...  24.  25.  25.]\n",
            " [ 22.  25.  28. ...   4.   4.   4.]]\n"
          ],
          "name": "stdout"
        }
      ]
    },
    {
      "metadata": {
        "id": "Q3bVwnhju0GO",
        "colab_type": "code",
        "colab": {
          "base_uri": "https://localhost:8080/",
          "height": 34
        },
        "outputId": "37a31ab8-048d-403c-88e3-677ec0a5c577"
      },
      "cell_type": "code",
      "source": [
        "len(img_mat)"
      ],
      "execution_count": 17,
      "outputs": [
        {
          "output_type": "execute_result",
          "data": {
            "text/plain": [
              "36808"
            ]
          },
          "metadata": {
            "tags": []
          },
          "execution_count": 17
        }
      ]
    },
    {
      "metadata": {
        "id": "Vw1ZRK1Ju0JD",
        "colab_type": "code",
        "colab": {
          "base_uri": "https://localhost:8080/",
          "height": 34
        },
        "outputId": "ca67cfb5-ea2d-47b6-c78a-0450d811fcd2"
      },
      "cell_type": "code",
      "source": [
        "# train skip i = 25001, 25003, 25005, 25006\n",
        "\n",
        "label_train = []\n",
        "for i in range(len(label)):\n",
        "  if not i in exclude:\n",
        "    label_train.append(label[i])\n",
        "\n",
        "len(label_train)"
      ],
      "execution_count": 18,
      "outputs": [
        {
          "output_type": "execute_result",
          "data": {
            "text/plain": [
              "36808"
            ]
          },
          "metadata": {
            "tags": []
          },
          "execution_count": 18
        }
      ]
    },
    {
      "metadata": {
        "id": "vuBm-NFdu0Lx",
        "colab_type": "code",
        "colab": {}
      },
      "cell_type": "code",
      "source": [
        "del gray_list"
      ],
      "execution_count": 0,
      "outputs": []
    },
    {
      "metadata": {
        "id": "3tf9x-Fhu0Op",
        "colab_type": "code",
        "colab": {}
      },
      "cell_type": "code",
      "source": [
        "del label"
      ],
      "execution_count": 0,
      "outputs": []
    },
    {
      "metadata": {
        "id": "5TTaDL-Eu0RQ",
        "colab_type": "code",
        "colab": {}
      },
      "cell_type": "code",
      "source": [
        "from sklearn.utils import shuffle\n",
        "#make sample label pairs\n",
        "data1,label1=shuffle(img_mat,label_train)"
      ],
      "execution_count": 0,
      "outputs": []
    },
    {
      "metadata": {
        "id": "5fp-Zvfuu0T3",
        "colab_type": "code",
        "colab": {
          "base_uri": "https://localhost:8080/",
          "height": 34
        },
        "outputId": "be61398a-bab1-4544-8f7b-e0e5c8a4c820"
      },
      "cell_type": "code",
      "source": [
        "print (len(data1), len(label1))"
      ],
      "execution_count": 22,
      "outputs": [
        {
          "output_type": "stream",
          "text": [
            "36808 36808\n"
          ],
          "name": "stdout"
        }
      ]
    },
    {
      "metadata": {
        "id": "Zsci4uLAu0W0",
        "colab_type": "code",
        "colab": {}
      },
      "cell_type": "code",
      "source": [
        "train_data = [data1, label1]"
      ],
      "execution_count": 0,
      "outputs": []
    },
    {
      "metadata": {
        "id": "f8_22Xj_u0Zl",
        "colab_type": "code",
        "colab": {}
      },
      "cell_type": "code",
      "source": [
        "del img_mat"
      ],
      "execution_count": 0,
      "outputs": []
    },
    {
      "metadata": {
        "id": "sVCJ2jKMu0cT",
        "colab_type": "code",
        "colab": {}
      },
      "cell_type": "code",
      "source": [
        "del data1"
      ],
      "execution_count": 0,
      "outputs": []
    },
    {
      "metadata": {
        "id": "FxWdOWuOu0e9",
        "colab_type": "code",
        "colab": {
          "base_uri": "https://localhost:8080/",
          "height": 34
        },
        "outputId": "92859671-14eb-407b-db65-49be670460fc"
      },
      "cell_type": "code",
      "source": [
        "print(len(train_data[0]), train_data[1][0])"
      ],
      "execution_count": 26,
      "outputs": [
        {
          "output_type": "stream",
          "text": [
            "36808 0\n"
          ],
          "name": "stdout"
        }
      ]
    },
    {
      "metadata": {
        "id": "VHxHtiKLu0ho",
        "colab_type": "code",
        "colab": {
          "base_uri": "https://localhost:8080/",
          "height": 286
        },
        "outputId": "8d8ccaa0-db57-467e-c78d-dd0eb87a0593"
      },
      "cell_type": "code",
      "source": [
        "import matplotlib.pyplot as plt\n",
        "\n",
        "check_img=train_data[0][100].reshape(row,col)\n",
        "plt.imshow(check_img)\n",
        "plt.imshow(check_img,cmap='gray')"
      ],
      "execution_count": 28,
      "outputs": [
        {
          "output_type": "execute_result",
          "data": {
            "text/plain": [
              "<matplotlib.image.AxesImage at 0x7f9e64752358>"
            ]
          },
          "metadata": {
            "tags": []
          },
          "execution_count": 28
        },
        {
          "output_type": "display_data",
          "data": {
            "image/png": "[encoded data removed]",
            "text/plain": [
              "<Figure size 432x288 with 1 Axes>"
            ]
          },
          "metadata": {
            "tags": []
          }
        }
      ]
    },
    {
      "metadata": {
        "id": "vi9T4Rzyu0kS",
        "colab_type": "code",
        "colab": {}
      },
      "cell_type": "code",
      "source": [
        "batch_size=32\n",
        "n_classes=2\n",
        "n_epochs=2\n",
        "channels=1 # no. of imagae channels\n",
        "n_filters=32 #no. of conv filters to use\n",
        "n_pool=2  #size of area for max pooling\n",
        "n_conv=3  #size of conv kernel\n",
        "\n",
        "(X,Y)=(train_data[0],train_data[1])"
      ],
      "execution_count": 0,
      "outputs": []
    },
    {
      "metadata": {
        "id": "E8dFNzY0u0m6",
        "colab_type": "code",
        "colab": {
          "base_uri": "https://localhost:8080/",
          "height": 34
        },
        "outputId": "f09032c5-cb72-4dcc-b108-4aec94889dac"
      },
      "cell_type": "code",
      "source": [
        "from sklearn.model_selection import train_test_split\n",
        "# preprocessing\n",
        "X_train, X_test, Y_train, Y_test = train_test_split(X,Y, test_size=0.1, random_state=4)\n",
        "X_train=X_train.reshape(X_train.shape[0],1,row,col)\n",
        "\n",
        "X_test=X_test.reshape(X_test.shape[0],1,row,col)\n",
        "\n",
        "X_train/=255\n",
        "X_test/=255\n",
        "\n",
        "from keras.utils import np_utils\n",
        "Y_train=np_utils.to_categorical(Y_train,n_classes)\n",
        "Y_test=np_utils.to_categorical(Y_test,n_classes)\n"
      ],
      "execution_count": 30,
      "outputs": [
        {
          "output_type": "stream",
          "text": [
            "Using TensorFlow backend.\n"
          ],
          "name": "stderr"
        }
      ]
    },
    {
      "metadata": {
        "id": "A5jqXRI4u0pt",
        "colab_type": "code",
        "colab": {}
      },
      "cell_type": "code",
      "source": [
        "from keras.models import Sequential\n",
        "from keras.layers.core import Dense, Dropout, Activation, Flatten\n",
        "from keras.layers.convolutional import Convolution2D, MaxPooling2D\n",
        "from keras import backend as K\n",
        "K.set_image_data_format('channels_first') # set format"
      ],
      "execution_count": 0,
      "outputs": []
    },
    {
      "metadata": {
        "id": "fxstXUFdu0uG",
        "colab_type": "code",
        "colab": {
          "base_uri": "https://localhost:8080/",
          "height": 241
        },
        "outputId": "5ededddd-df7d-4db4-a007-e6c45b71177e"
      },
      "cell_type": "code",
      "source": [
        "# deifne the model layout\n",
        "model=Sequential()\n",
        "\n",
        "#add layers\n",
        "model.add(Convolution2D(n_filters,n_conv,n_conv,border_mode='valid',input_shape=(1,row,col)))\n",
        "\n",
        "convol1=Activation('relu')\n",
        "model.add(convol1)\n",
        "model.add(Convolution2D(n_filters,n_conv,n_conv))\n",
        "\n",
        "convol2=Activation('relu')\n",
        "model.add(convol2)\n",
        "model.add(Convolution2D(n_filters,n_conv,n_conv))\n",
        "\n",
        "convol3=Activation('relu')\n",
        "model.add(convol3)\n",
        "model.add(MaxPooling2D(pool_size=(n_pool,n_pool)))\n",
        "\n",
        "\n",
        "\n",
        "model.add(Dropout(0.1))\n",
        "model.add(Flatten())\n",
        "\n",
        "model.add(Dense(96))\n",
        "model.add(Activation('relu'))\n",
        "model.add(Dropout(0.1))\n",
        "\n",
        "model.add(Dense(n_classes))\n",
        "model.add(Activation('softmax'))"
      ],
      "execution_count": 32,
      "outputs": [
        {
          "output_type": "stream",
          "text": [
            "WARNING:tensorflow:From /usr/local/lib/python3.6/dist-packages/tensorflow/python/framework/op_def_library.py:263: colocate_with (from tensorflow.python.framework.ops) is deprecated and will be removed in a future version.\n",
            "Instructions for updating:\n",
            "Colocations handled automatically by placer.\n",
            "WARNING:tensorflow:From /usr/local/lib/python3.6/dist-packages/keras/backend/tensorflow_backend.py:3445: calling dropout (from tensorflow.python.ops.nn_ops) with keep_prob is deprecated and will be removed in a future version.\n",
            "Instructions for updating:\n",
            "Please use `rate` instead of `keep_prob`. Rate should be set to `rate = 1 - keep_prob`.\n"
          ],
          "name": "stdout"
        },
        {
          "output_type": "stream",
          "text": [
            "/usr/local/lib/python3.6/dist-packages/ipykernel_launcher.py:4: UserWarning: Update your `Conv2D` call to the Keras 2 API: `Conv2D(32, (3, 3), input_shape=(1, 64, 64..., padding=\"valid\")`\n",
            "  after removing the cwd from sys.path.\n",
            "/usr/local/lib/python3.6/dist-packages/ipykernel_launcher.py:8: UserWarning: Update your `Conv2D` call to the Keras 2 API: `Conv2D(32, (3, 3))`\n",
            "  \n",
            "/usr/local/lib/python3.6/dist-packages/ipykernel_launcher.py:12: UserWarning: Update your `Conv2D` call to the Keras 2 API: `Conv2D(32, (3, 3))`\n",
            "  if sys.path[0] == '':\n"
          ],
          "name": "stderr"
        }
      ]
    },
    {
      "metadata": {
        "id": "GXqwCgJb4hAF",
        "colab_type": "code",
        "colab": {
          "base_uri": "https://localhost:8080/",
          "height": 612
        },
        "outputId": "682b8fec-2bcb-40d5-e5c6-0ac7c61334bb"
      },
      "cell_type": "code",
      "source": [
        "# compile the model\n",
        "model.compile(loss='categorical_crossentropy',optimizer='adadelta',metrics=['accuracy'])\n",
        "\n",
        "# print the model summary\n",
        "model.summary()"
      ],
      "execution_count": 33,
      "outputs": [
        {
          "output_type": "stream",
          "text": [
            "_________________________________________________________________\n",
            "Layer (type)                 Output Shape              Param #   \n",
            "=================================================================\n",
            "conv2d_1 (Conv2D)            (None, 32, 62, 62)        320       \n",
            "_________________________________________________________________\n",
            "activation_1 (Activation)    (None, 32, 62, 62)        0         \n",
            "_________________________________________________________________\n",
            "conv2d_2 (Conv2D)            (None, 32, 60, 60)        9248      \n",
            "_________________________________________________________________\n",
            "activation_2 (Activation)    (None, 32, 60, 60)        0         \n",
            "_________________________________________________________________\n",
            "conv2d_3 (Conv2D)            (None, 32, 58, 58)        9248      \n",
            "_________________________________________________________________\n",
            "activation_3 (Activation)    (None, 32, 58, 58)        0         \n",
            "_________________________________________________________________\n",
            "max_pooling2d_1 (MaxPooling2 (None, 32, 29, 29)        0         \n",
            "_________________________________________________________________\n",
            "dropout_1 (Dropout)          (None, 32, 29, 29)        0         \n",
            "_________________________________________________________________\n",
            "flatten_1 (Flatten)          (None, 26912)             0         \n",
            "_________________________________________________________________\n",
            "dense_1 (Dense)              (None, 96)                2583648   \n",
            "_________________________________________________________________\n",
            "activation_4 (Activation)    (None, 96)                0         \n",
            "_________________________________________________________________\n",
            "dropout_2 (Dropout)          (None, 96)                0         \n",
            "_________________________________________________________________\n",
            "dense_2 (Dense)              (None, 2)                 194       \n",
            "_________________________________________________________________\n",
            "activation_5 (Activation)    (None, 2)                 0         \n",
            "=================================================================\n",
            "Total params: 2,602,658\n",
            "Trainable params: 2,602,658\n",
            "Non-trainable params: 0\n",
            "_________________________________________________________________\n"
          ],
          "name": "stdout"
        }
      ]
    },
    {
      "metadata": {
        "id": "mSfaBM3k4hNd",
        "colab_type": "code",
        "colab": {
          "base_uri": "https://localhost:8080/",
          "height": 173
        },
        "outputId": "0979e622-bd0e-4b89-f801-292877be50a8"
      },
      "cell_type": "code",
      "source": [
        "# train the model\n",
        "\n",
        "trainin=model.fit(X_train,Y_train,batch_size=batch_size,epochs=n_epochs,verbose=1,validation_data=(X_test,Y_test))"
      ],
      "execution_count": 34,
      "outputs": [
        {
          "output_type": "stream",
          "text": [
            "WARNING:tensorflow:From /usr/local/lib/python3.6/dist-packages/tensorflow/python/ops/math_ops.py:3066: to_int32 (from tensorflow.python.ops.math_ops) is deprecated and will be removed in a future version.\n",
            "Instructions for updating:\n",
            "Use tf.cast instead.\n",
            "Train on 33127 samples, validate on 3681 samples\n",
            "Epoch 1/2\n",
            "33127/33127 [==============================] - 841s 25ms/step - loss: 0.6571 - acc: 0.6045 - val_loss: 0.6552 - val_acc: 0.6248\n",
            "Epoch 2/2\n",
            "33127/33127 [==============================] - 844s 25ms/step - loss: 0.6343 - acc: 0.6335 - val_loss: 0.6375 - val_acc: 0.6216\n"
          ],
          "name": "stdout"
        }
      ]
    },
    {
      "metadata": {
        "id": "WWeeb81A4hP_",
        "colab_type": "code",
        "colab": {
          "base_uri": "https://localhost:8080/",
          "height": 51
        },
        "outputId": "48794230-50a8-41fa-a1fe-216249e6cb1e"
      },
      "cell_type": "code",
      "source": [
        "score = model.evaluate(X_test, Y_test, verbose=0)\n",
        "print('Test loss:', score[0])\n",
        "print('Test accuracy:', score[1])"
      ],
      "execution_count": 35,
      "outputs": [
        {
          "output_type": "stream",
          "text": [
            "Test loss: 0.6375192556018149\n",
            "Test accuracy: 0.621570225482206\n"
          ],
          "name": "stdout"
        }
      ]
    },
    {
      "metadata": {
        "id": "TP7USahF4hU7",
        "colab_type": "code",
        "colab": {}
      },
      "cell_type": "code",
      "source": [
        ""
      ],
      "execution_count": 0,
      "outputs": []
    },
    {
      "metadata": {
        "id": "naf41HHe4hXe",
        "colab_type": "code",
        "colab": {}
      },
      "cell_type": "code",
      "source": [
        ""
      ],
      "execution_count": 0,
      "outputs": []
    },
    {
      "metadata": {
        "id": "oYgsVXwi4hZ9",
        "colab_type": "code",
        "colab": {}
      },
      "cell_type": "code",
      "source": [
        ""
      ],
      "execution_count": 0,
      "outputs": []
    },
    {
      "metadata": {
        "id": "vPZKhCpy4hcH",
        "colab_type": "code",
        "colab": {}
      },
      "cell_type": "code",
      "source": [
        ""
      ],
      "execution_count": 0,
      "outputs": []
    },
    {
      "metadata": {
        "id": "hSnbG7sQ4heh",
        "colab_type": "code",
        "colab": {}
      },
      "cell_type": "code",
      "source": [
        ""
      ],
      "execution_count": 0,
      "outputs": []
    },
    {
      "metadata": {
        "id": "B6VszKiQ4hg7",
        "colab_type": "code",
        "colab": {}
      },
      "cell_type": "code",
      "source": [
        ""
      ],
      "execution_count": 0,
      "outputs": []
    },
    {
      "metadata": {
        "id": "hc30oxmi4hlW",
        "colab_type": "code",
        "colab": {}
      },
      "cell_type": "code",
      "source": [
        ""
      ],
      "execution_count": 0,
      "outputs": []
    },
    {
      "metadata": {
        "id": "8vZZxKWq4hqf",
        "colab_type": "code",
        "colab": {}
      },
      "cell_type": "code",
      "source": [
        ""
      ],
      "execution_count": 0,
      "outputs": []
    },
    {
      "metadata": {
        "id": "86JEMhl74huy",
        "colab_type": "code",
        "colab": {}
      },
      "cell_type": "code",
      "source": [
        ""
      ],
      "execution_count": 0,
      "outputs": []
    }
  ]
}